{
 "cells": [
  {
   "cell_type": "code",
   "execution_count": 1,
   "metadata": {},
   "outputs": [],
   "source": "import time\nimport numpy as np\nfrom blmc_robots import py_nyu_finger\nfrom IPython.display import display, clear_output\n\nnp.set_printoptions(suppress=True, precision=3)"
  },
  {
   "cell_type": "code",
   "execution_count": 2,
   "metadata": {},
   "outputs": [],
   "source": "robot = py_nyu_finger.NYUFinger()\nrobot.initialize('enp5s0f1')"
  },
  {
   "cell_type": "code",
   "execution_count": 3,
   "metadata": {},
   "outputs": [
    {
     "name": "stdout",
     "output_type": "stream",
     "text": "[-0.018  0.001  0.001]\n('pos:', array([-0.036, -0.167,  0.354]), 'tau:', array([-0.071,  0.056, -0.161]))\n('pos:', array([-0.038, -0.167,  0.348]), 'tau:', array([-0.055,  0.071, -0.149]))\n('pos:', array([-0.036, -0.167,  0.347]), 'tau:', array([-0.075,  0.063, -0.157]))\n('pos:', array([-0.036, -0.166,  0.346]), 'tau:', array([-0.056,  0.055, -0.16 ]))\n('pos:', array([-0.036, -0.168,  0.342]), 'tau:', array([-0.047,  0.076, -0.16 ]))\n('pos:', array([-0.037, -0.169,  0.344]), 'tau:', array([-0.047,  0.08 , -0.159]))\n('pos:', array([-0.037, -0.167,  0.34 ]), 'tau:', array([-0.05 ,  0.072, -0.15 ]))\n('pos:', array([-0.036, -0.168,  0.343]), 'tau:', array([-0.075,  0.063, -0.157]))\n('pos:', array([-0.037, -0.166,  0.346]), 'tau:', array([-0.076,  0.051, -0.15 ]))\n('pos:', array([-0.036, -0.165,  0.345]), 'tau:', array([-0.064,  0.049, -0.151]))\n('pos:', array([-0.036, -0.167,  0.347]), 'tau:', array([-0.061,  0.068, -0.164]))\n('pos:', array([-0.036, -0.166,  0.343]), 'tau:', array([-0.064,  0.05 , -0.151]))\n('pos:', array([-0.036, -0.166,  0.343]), 'tau:', array([-0.065,  0.063, -0.159]))\n('pos:', array([-0.037, -0.167,  0.344]), 'tau:', array([-0.05 ,  0.06 , -0.162]))\n('pos:', array([-0.036, -0.166,  0.343]), 'tau:', array([-0.064,  0.054, -0.162]))\n('pos:', array([-0.036, -0.168,  0.347]), 'tau:', array([-0.085,  0.052, -0.165]))\n('pos:', array([-0.037, -0.167,  0.346]), 'tau:', array([-0.063,  0.056, -0.152]))\n('pos:', array([-0.036, -0.166,  0.343]), 'tau:', array([-0.073,  0.059, -0.156]))\n('pos:', array([-0.036, -0.164,  0.339]), 'tau:', array([-0.059,  0.055, -0.149]))\n('pos:', array([-0.036, -0.165,  0.337]), 'tau:', array([-0.057,  0.06 , -0.149]))\n('pos:', array([-0.036, -0.167,  0.34 ]), 'tau:', array([-0.069,  0.061, -0.152]))\n('pos:', array([-0.036, -0.169,  0.342]), 'tau:', array([-0.074,  0.064, -0.15 ]))\n('pos:', array([-0.036, -0.168,  0.339]), 'tau:', array([-0.071,  0.069, -0.15 ]))\n('pos:', array([-0.036, -0.171,  0.342]), 'tau:', array([-0.073,  0.068, -0.149]))\n('pos:', array([-0.036, -0.171,  0.341]), 'tau:', array([-0.064,  0.069, -0.152]))\n('pos:', array([-0.037, -0.169,  0.337]), 'tau:', array([-0.075,  0.064, -0.143]))\n('pos:', array([-0.036, -0.17 ,  0.34 ]), 'tau:', array([-0.067,  0.067, -0.144]))\n('pos:', array([-0.037, -0.168,  0.346]), 'tau:', array([-0.052,  0.063, -0.16 ]))\n('pos:', array([-0.028, -0.17 ,  0.318]), 'tau:', array([-0.081,  0.075, -0.13 ]))\n('pos:', array([-0.036, -0.167,  0.341]), 'tau:', array([-0.064,  0.073, -0.156]))\n('pos:', array([ 0.04 , -0.181,  0.301]), 'tau:', array([-0.14 ,  0.074, -0.102]))\n('pos:', array([-0.039, -0.158,  0.356]), 'tau:', array([-0.054,  0.084, -0.169]))\n('pos:', array([-0.036, -0.168,  0.338]), 'tau:', array([-0.071,  0.052, -0.152]))\n('pos:', array([-0.036, -0.169,  0.336]), 'tau:', array([-0.064,  0.067, -0.148]))\n('pos:', array([-0.036, -0.168,  0.336]), 'tau:', array([-0.064,  0.062, -0.143]))\n('pos:', array([-0.036, -0.168,  0.341]), 'tau:', array([-0.07 ,  0.059, -0.142]))\n('pos:', array([-0.037, -0.168,  0.339]), 'tau:', array([-0.064,  0.057, -0.151]))\n('pos:', array([-0.038, -0.171,  0.342]), 'tau:', array([-0.06 ,  0.091, -0.148]))\n('pos:', array([-0.037, -0.171,  0.35 ]), 'tau:', array([-0.074,  0.073, -0.161]))\n('pos:', array([-0.036, -0.17 ,  0.345]), 'tau:', array([-0.08 ,  0.075, -0.157]))\n('pos:', array([-0.037, -0.167,  0.34 ]), 'tau:', array([-0.065,  0.058, -0.147]))\n('pos:', array([-0.036, -0.169,  0.343]), 'tau:', array([-0.072,  0.076, -0.16 ]))\n('pos:', array([-0.037, -0.167,  0.345]), 'tau:', array([-0.081,  0.06 , -0.163]))\n('pos:', array([-0.037, -0.168,  0.346]), 'tau:', array([-0.084,  0.074, -0.159]))\n('pos:', array([-0.046, -0.17 ,  0.379]), 'tau:', array([-0.055,  0.063, -0.198]))\n('pos:', array([-0.046, -0.169,  0.375]), 'tau:', array([-0.066,  0.067, -0.194]))\n('pos:', array([-0.037, -0.164,  0.34 ]), 'tau:', array([-0.071,  0.049, -0.146]))\n('pos:', array([ 0.089, -0.189,  0.305]), 'tau:', array([-0.201,  0.093, -0.096]))\n('pos:', array([ 0.079, -0.19 ,  0.306]), 'tau:', array([-0.201,  0.067, -0.109]))\n('pos:', array([ 0.05 , -0.185,  0.304]), 'tau:', array([-0.143,  0.108, -0.104]))\n('pos:', array([-0.037, -0.172,  0.348]), 'tau:', array([-0.074,  0.067, -0.161]))\n('pos:', array([-0.038, -0.169,  0.349]), 'tau:', array([-0.083,  0.082, -0.154]))\n('pos:', array([-0.037, -0.165,  0.338]), 'tau:', array([-0.063,  0.063, -0.147]))\n('pos:', array([-0.039, -0.164,  0.346]), 'tau:', array([-0.07 ,  0.078, -0.147]))\n('pos:', array([-0.038, -0.166,  0.346]), 'tau:', array([-0.053,  0.077, -0.155]))\n('pos:', array([-0.037, -0.17 ,  0.345]), 'tau:', array([-0.071,  0.077, -0.159]))\n('pos:', array([-0.038, -0.165,  0.346]), 'tau:', array([-0.042,  0.069, -0.15 ]))\n('pos:', array([-0.039, -0.165,  0.346]), 'tau:', array([-0.056,  0.078, -0.153]))\n('pos:', array([-0.039, -0.169,  0.347]), 'tau:', array([-0.066,  0.086, -0.159]))\n('pos:', array([-0.038, -0.167,  0.346]), 'tau:', array([-0.045,  0.085, -0.152]))\n('pos:', array([-0.038, -0.166,  0.344]), 'tau:', array([-0.072,  0.083, -0.153]))\n('pos:', array([-0.039, -0.163,  0.339]), 'tau:', array([-0.056,  0.089, -0.15 ]))\n('pos:', array([-0.039, -0.162,  0.335]), 'tau:', array([-0.056,  0.079, -0.134]))\n('pos:', array([-0.039, -0.164,  0.34 ]), 'tau:', array([-0.055,  0.07 , -0.147]))\n('pos:', array([-0.039, -0.165,  0.341]), 'tau:', array([-0.065,  0.073, -0.146]))\n('pos:', array([-0.038, -0.165,  0.339]), 'tau:', array([-0.067,  0.079, -0.149]))\n('pos:', array([-0.038, -0.169,  0.347]), 'tau:', array([-0.051,  0.078, -0.163]))\n('pos:', array([-0.039, -0.164,  0.341]), 'tau:', array([-0.044,  0.075, -0.156]))\n('pos:', array([-0.039, -0.166,  0.342]), 'tau:', array([-0.051,  0.068, -0.151]))\n('pos:', array([-0.039, -0.165,  0.341]), 'tau:', array([-0.074,  0.071, -0.152]))\n('pos:', array([-0.039, -0.168,  0.346]), 'tau:', array([-0.057,  0.093, -0.161]))\n('pos:', array([-0.038, -0.164,  0.341]), 'tau:', array([-0.047,  0.073, -0.155]))\n('pos:', array([-0.039, -0.163,  0.343]), 'tau:', array([-0.048,  0.07 , -0.157]))\n('pos:', array([-0.039, -0.162,  0.34 ]), 'tau:', array([-0.056,  0.076, -0.148]))\n('pos:', array([-0.039, -0.166,  0.34 ]), 'tau:', array([-0.054,  0.074, -0.156]))\n('pos:', array([-0.037, -0.165,  0.342]), 'tau:', array([-0.05 ,  0.073, -0.159]))\n('pos:', array([-0.038, -0.163,  0.341]), 'tau:', array([-0.045,  0.076, -0.15 ]))\n('pos:', array([-0.039, -0.162,  0.34 ]), 'tau:', array([-0.053,  0.078, -0.15 ]))\n('pos:', array([-0.039, -0.167,  0.344]), 'tau:', array([-0.06 ,  0.084, -0.15 ]))\n('pos:', array([-0.038, -0.165,  0.341]), 'tau:', array([-0.043,  0.071, -0.143]))\n('pos:', array([-0.039, -0.167,  0.343]), 'tau:', array([-0.055,  0.097, -0.145]))\n('pos:', array([-0.037, -0.157,  0.359]), 'tau:', array([-0.085,  0.061, -0.169]))\n('pos:', array([-0.039, -0.169,  0.346]), 'tau:', array([-0.072,  0.086, -0.159]))\n('pos:', array([-0.038, -0.169,  0.354]), 'tau:', array([-0.049,  0.091, -0.16 ]))\n('pos:', array([-0.046, -0.17 ,  0.363]), 'tau:', array([-0.059,  0.076, -0.187]))\n('pos:', array([-0.038, -0.164,  0.345]), 'tau:', array([-0.051,  0.068, -0.156]))\n('pos:', array([-0.044, -0.166,  0.355]), 'tau:', array([-0.076,  0.058, -0.171]))\n('pos:', array([-0.039, -0.164,  0.343]), 'tau:', array([-0.059,  0.069, -0.156]))\n('pos:', array([-0.038, -0.163,  0.342]), 'tau:', array([-0.049,  0.073, -0.151]))\n('pos:', array([-0.039, -0.164,  0.344]), 'tau:', array([-0.056,  0.074, -0.153]))\n('pos:', array([-0.036, -0.164,  0.343]), 'tau:', array([-0.074,  0.065, -0.155]))\n('pos:', array([-0.037, -0.167,  0.349]), 'tau:', array([-0.048,  0.084, -0.156]))\n('pos:', array([-0.039, -0.169,  0.35 ]), 'tau:', array([-0.055,  0.082, -0.163]))\ninterrupted!\n"
    }
   ],
   "source": "P = 1.0\nD = 0.05\n\n# Use the current position as desired position.\n# NOTE: Need to do a copy here as otherwise reading the \n#       updated value all the time.\nrobot.acquire_sensors()\ndes_pos = robot.get_joint_positions().copy()\n\nT = 2. * np.pi * .001\n\ni = 0\ntry:\n    while True:\n        robot.acquire_sensors()\n        \n        des_pos[0] = -0.1\n        des_pos[1] = 0.4 * np.sin(i*T)\n        des_pos[2] = -0.8 * np.sin(i*T)\n        \n        pos = robot.get_joint_positions()\n        vel = robot.get_joint_velocities()\n         \n        tau = P * (des_pos - pos) - D * vel\n                \n        robot.send_target_joint_torque(tau)\n        time.sleep(0.001)\n        i += 1\n        \n        if i % 2000 == 0:\n            print('pos:', pos, 'tau:', tau)\nexcept KeyboardInterrupt:\n    print('interrupted!')\n\n# Need to send zero torques. Otherwise the safety mode on the card kicks in\n# and the card goes into error mode.\nrobot.send_target_joint_torque(np.array([0., 0., 0.]))"
  },
  {
   "cell_type": "code",
   "execution_count": 4,
   "metadata": {},
   "outputs": [
    {
     "data": {
      "text/plain": "<ufunc 'sin'>"
     },
     "execution_count": 4,
     "metadata": {},
     "output_type": "execute_result"
    }
   ],
   "source": ""
  },
  {
   "cell_type": "code",
   "execution_count": 7,
   "metadata": {},
   "outputs": [
    {
     "data": {
      "text/plain": "array([-0.038, -0.416,  0.815])"
     },
     "execution_count": 7,
     "metadata": {},
     "output_type": "execute_result"
    }
   ],
   "source": ""
  },
  {
   "cell_type": "code",
   "execution_count": null,
   "metadata": {},
   "outputs": [],
   "source": ""
  }
 ],
 "metadata": {
  "kernelspec": {
   "display_name": "Python 2",
   "language": "python",
   "name": "python2"
  },
  "language_info": {
   "codemirror_mode": {
    "name": "ipython",
    "version": 2
   },
   "file_extension": ".py",
   "mimetype": "text/x-python",
   "name": "python",
   "nbconvert_exporter": "python",
   "pygments_lexer": "ipython2",
   "version": "2.7.12"
  }
 },
 "nbformat": 4,
 "nbformat_minor": 4
}
